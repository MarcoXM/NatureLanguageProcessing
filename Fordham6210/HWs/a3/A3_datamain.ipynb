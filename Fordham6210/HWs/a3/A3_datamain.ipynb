{
 "cells": [
  {
   "cell_type": "code",
   "execution_count": 1,
   "metadata": {},
   "outputs": [],
   "source": [
    "from utils import getCorpus\n",
    "from modeling import Models\n",
    "from nltk.tokenize import sent_tokenize, word_tokenize\n",
    "from nltk.stem import PorterStemmer \n",
    "from sklearn.model_selection import KFold, cross_val_score\n",
    "from sklearn.feature_extraction.text import CountVectorizer\n",
    "from sklearn.model_selection import train_test_split\n",
    "from input_fn import Dataset\n",
    "import pandas as pd"
   ]
  },
  {
   "cell_type": "code",
   "execution_count": 2,
   "metadata": {},
   "outputs": [],
   "source": [
    "positivecorpus = getCorpus('https://storm.cis.fordham.edu/~yli/data/electronics/positive.review','review_text')\n",
    "negativecorpus = getCorpus('https://storm.cis.fordham.edu/~yli/data/electronics/negative.review','review_text')\n",
    "ps = PorterStemmer() \n",
    "vectorizer = CountVectorizer()"
   ]
  },
  {
   "cell_type": "code",
   "execution_count": 3,
   "metadata": {},
   "outputs": [],
   "source": [
    "p = Dataset(corpus=positivecorpus, tokenizer=word_tokenize, stemmer=ps,keep_pantuation= False)\n",
    "n = Dataset(corpus=negativecorpus, tokenizer=word_tokenize, stemmer=ps,keep_pantuation= False)"
   ]
  },
  {
   "cell_type": "code",
   "execution_count": 4,
   "metadata": {},
   "outputs": [
    {
     "data": {
      "text/plain": [
       "[('works', 184),\n",
       " ('ipod', 185),\n",
       " ('ive', 193),\n",
       " ('used', 202),\n",
       " ('phone', 203),\n",
       " ('bought', 206),\n",
       " ('price', 217),\n",
       " ('dont', 224),\n",
       " ('product', 230),\n",
       " ('well', 236),\n",
       " ('also', 240),\n",
       " ('get', 256),\n",
       " ('would', 258),\n",
       " ('quality', 274),\n",
       " ('like', 284),\n",
       " ('sound', 355),\n",
       " ('good', 399),\n",
       " ('great', 402),\n",
       " ('one', 429),\n",
       " ('use', 434)]"
      ]
     },
     "execution_count": 4,
     "metadata": {},
     "output_type": "execute_result"
    }
   ],
   "source": [
    "p.getmostwords(20)"
   ]
  },
  {
   "cell_type": "code",
   "execution_count": 5,
   "metadata": {},
   "outputs": [],
   "source": [
    "# Get Matrix\n",
    "df_positive = p.getdata(p.X,y = 1)\n",
    "df_negative = n.getdata(p.X,y = 0)\n",
    "df = pd.concat([df_positive,df_negative],axis=0)\n",
    "df = df.sample(frac=1).reset_index(drop=True)\n",
    "df['review'] = df['review'].apply(lambda x : \" \".join(x))"
   ]
  },
  {
   "cell_type": "code",
   "execution_count": 6,
   "metadata": {},
   "outputs": [
    {
     "name": "stdout",
     "output_type": "stream",
     "text": [
      "START Fit\n",
      "2019-09-28 23:23:39.418045 NB\n",
      "Training done !!\n",
      "2019-09-28 23:23:39.422339 logistics\n",
      "Training done !!\n"
     ]
    }
   ],
   "source": [
    "## Modeling\n",
    "x_train,x_test,y_train,y_test = train_test_split(df.review,df.sentiment,test_size = 0.3)\n",
    "\n",
    "v_x_train = vectorizer.fit_transform(x_train)\n",
    "v_x_test = vectorizer.transform(x_test)\n",
    "kfolds = KFold(n_splits=10, shuffle=True, random_state=42)\n",
    "models = Models(v_x_train,y_train,kfolds)\n",
    "log,nb = models.main()"
   ]
  },
  {
   "cell_type": "code",
   "execution_count": null,
   "metadata": {},
   "outputs": [],
   "source": []
  },
  {
   "cell_type": "code",
   "execution_count": null,
   "metadata": {},
   "outputs": [],
   "source": []
  },
  {
   "cell_type": "code",
   "execution_count": null,
   "metadata": {},
   "outputs": [],
   "source": []
  },
  {
   "cell_type": "code",
   "execution_count": null,
   "metadata": {},
   "outputs": [],
   "source": []
  }
 ],
 "metadata": {
  "kernelspec": {
   "display_name": "Python 3",
   "language": "python",
   "name": "python3"
  },
  "language_info": {
   "codemirror_mode": {
    "name": "ipython",
    "version": 3
   },
   "file_extension": ".py",
   "mimetype": "text/x-python",
   "name": "python",
   "nbconvert_exporter": "python",
   "pygments_lexer": "ipython3",
   "version": "3.6.7"
  }
 },
 "nbformat": 4,
 "nbformat_minor": 2
}
