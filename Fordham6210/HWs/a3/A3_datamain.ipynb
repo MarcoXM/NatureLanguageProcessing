{
 "cells": [
  {
   "cell_type": "code",
   "execution_count": 1,
   "metadata": {},
   "outputs": [],
   "source": [
    "from utils import getCorpus\n",
    "from modeling import Models\n",
    "from nltk.tokenize import sent_tokenize, word_tokenize\n",
    "from nltk.stem import PorterStemmer \n",
    "from sklearn.model_selection import KFold, cross_val_score\n",
    "from sklearn.feature_extraction.text import CountVectorizer,TfidfVectorizer\n",
    "from sklearn.model_selection import train_test_split\n",
    "from input_fn import Dataset\n",
    "import pandas as pd\n",
    "import numpy as np"
   ]
  },
  {
   "cell_type": "code",
   "execution_count": 2,
   "metadata": {},
   "outputs": [],
   "source": [
    "positivecorpus = getCorpus('https://storm.cis.fordham.edu/~yli/data/electronics/positive.review','review_text')\n",
    "negativecorpus = getCorpus('https://storm.cis.fordham.edu/~yli/data/electronics/negative.review','review_text')\n",
    "ps = PorterStemmer() \n",
    "vectorizer = CountVectorizer()"
   ]
  },
  {
   "cell_type": "code",
   "execution_count": 3,
   "metadata": {},
   "outputs": [],
   "source": [
    "p = Dataset(corpus=positivecorpus, tokenizer=word_tokenize, stemmer=ps,keep_pantuation= False)\n",
    "n = Dataset(corpus=negativecorpus, tokenizer=word_tokenize, stemmer=ps,keep_pantuation= False)"
   ]
  },
  {
   "cell_type": "code",
   "execution_count": 4,
   "metadata": {},
   "outputs": [
    {
     "data": {
      "text/plain": [
       "[('works', 184),\n",
       " ('ipod', 185),\n",
       " ('ive', 193),\n",
       " ('used', 202),\n",
       " ('phone', 203),\n",
       " ('bought', 206),\n",
       " ('price', 217),\n",
       " ('dont', 224),\n",
       " ('product', 230),\n",
       " ('well', 236),\n",
       " ('also', 240),\n",
       " ('get', 256),\n",
       " ('would', 258),\n",
       " ('quality', 274),\n",
       " ('like', 284),\n",
       " ('sound', 355),\n",
       " ('good', 399),\n",
       " ('great', 402),\n",
       " ('one', 429),\n",
       " ('use', 434)]"
      ]
     },
     "execution_count": 4,
     "metadata": {},
     "output_type": "execute_result"
    }
   ],
   "source": [
    "p.getmostwords(20)"
   ]
  },
  {
   "cell_type": "code",
   "execution_count": 5,
   "metadata": {},
   "outputs": [],
   "source": [
    "# Get Matrix\n",
    "df_positive = p.getdata(p.X,y = 1)\n",
    "df_negative = n.getdata(n.X,y = 0)\n",
    "df = pd.concat([df_positive,df_negative],axis=0)\n",
    "df = df.sample(frac=1).reset_index(drop=True)\n",
    "df['review'] = df['review'].apply(lambda x : \" \".join(x))"
   ]
  },
  {
   "cell_type": "code",
   "execution_count": 6,
   "metadata": {},
   "outputs": [
    {
     "data": {
      "text/html": [
       "<div>\n",
       "<style scoped>\n",
       "    .dataframe tbody tr th:only-of-type {\n",
       "        vertical-align: middle;\n",
       "    }\n",
       "\n",
       "    .dataframe tbody tr th {\n",
       "        vertical-align: top;\n",
       "    }\n",
       "\n",
       "    .dataframe thead th {\n",
       "        text-align: right;\n",
       "    }\n",
       "</style>\n",
       "<table border=\"1\" class=\"dataframe\">\n",
       "  <thead>\n",
       "    <tr style=\"text-align: right;\">\n",
       "      <th></th>\n",
       "      <th>review</th>\n",
       "      <th>sentiment</th>\n",
       "    </tr>\n",
       "  </thead>\n",
       "  <tbody>\n",
       "    <tr>\n",
       "      <th>0</th>\n",
       "      <td>bought backup internal hard drive laptop exper...</td>\n",
       "      <td>0</td>\n",
       "    </tr>\n",
       "    <tr>\n",
       "      <th>1</th>\n",
       "      <td>accident caused one bud stop emitting sound fa...</td>\n",
       "      <td>1</td>\n",
       "    </tr>\n",
       "    <tr>\n",
       "      <th>2</th>\n",
       "      <td>wanted case small slim carried laptop perfect ...</td>\n",
       "      <td>1</td>\n",
       "    </tr>\n",
       "    <tr>\n",
       "      <th>3</th>\n",
       "      <td>gave gift excellent value tune capacity suffic...</td>\n",
       "      <td>1</td>\n",
       "    </tr>\n",
       "    <tr>\n",
       "      <th>4</th>\n",
       "      <td>complaints flash drive easy use enough storage...</td>\n",
       "      <td>1</td>\n",
       "    </tr>\n",
       "  </tbody>\n",
       "</table>\n",
       "</div>"
      ],
      "text/plain": [
       "                                              review  sentiment\n",
       "0  bought backup internal hard drive laptop exper...          0\n",
       "1  accident caused one bud stop emitting sound fa...          1\n",
       "2  wanted case small slim carried laptop perfect ...          1\n",
       "3  gave gift excellent value tune capacity suffic...          1\n",
       "4  complaints flash drive easy use enough storage...          1"
      ]
     },
     "execution_count": 6,
     "metadata": {},
     "output_type": "execute_result"
    }
   ],
   "source": [
    "df.head()"
   ]
  },
  {
   "cell_type": "code",
   "execution_count": 7,
   "metadata": {},
   "outputs": [
    {
     "name": "stdout",
     "output_type": "stream",
     "text": [
      "START Fit\n",
      "2019-10-08 21:04:15.200968 NB\n",
      "Training done !!\n",
      "2019-10-08 21:04:15.224034 logistics\n",
      "Training done !!\n"
     ]
    }
   ],
   "source": [
    "## Modeling\n",
    "x_train,x_test,y_train,y_test = train_test_split(df.review,df.sentiment,test_size = 0.3)\n",
    "\n",
    "vectorizer.fit(df.review)\n",
    "v_x_train = vectorizer.transform(x_train)\n",
    "v_x_test = vectorizer.transform(x_test)\n",
    "kfolds = KFold(n_splits=5, shuffle=True, random_state=42)\n",
    "models = Models(v_x_train,y_train.values,kfolds)\n",
    "log,nb = models.main()"
   ]
  },
  {
   "cell_type": "code",
   "execution_count": 8,
   "metadata": {},
   "outputs": [
    {
     "name": "stdout",
     "output_type": "stream",
     "text": [
      "              precision    recall  f1-score   support\n",
      "\n",
      "           0       0.79      0.82      0.80       292\n",
      "           1       0.82      0.79      0.81       308\n",
      "\n",
      "   micro avg       0.81      0.81      0.81       600\n",
      "   macro avg       0.81      0.81      0.80       600\n",
      "weighted avg       0.81      0.81      0.81       600\n",
      "\n"
     ]
    }
   ],
   "source": [
    "from sklearn.metrics import classification_report,confusion_matrix\n",
    "print(classification_report(y_pred=nb.predict(v_x_test),y_true=y_test.values))"
   ]
  },
  {
   "cell_type": "code",
   "execution_count": 9,
   "metadata": {},
   "outputs": [
    {
     "name": "stdout",
     "output_type": "stream",
     "text": [
      "[[239  53]\n",
      " [ 64 244]]\n"
     ]
    }
   ],
   "source": [
    "print(confusion_matrix(y_pred=nb.predict(v_x_test),y_true=y_test.values))"
   ]
  },
  {
   "cell_type": "code",
   "execution_count": 10,
   "metadata": {},
   "outputs": [],
   "source": [
    "def getSigwordsCV(model,cate = 1,vectorizer = vectorizer):\n",
    "    \n",
    "    if cate == 1:\n",
    "        idx = np.argmax(model.named_steps['logisticregressioncv'].coef_)\n",
    "    else:\n",
    "        idx = np.argmin(model.named_steps['logisticregressioncv'].coef_)\n",
    "        \n",
    "    return vectorizer.get_feature_names()[idx]\n",
    "\n",
    "def getSigwords(model,cate = 1,vectorizer = vectorizer):\n",
    "    \n",
    "    if cate == 1:\n",
    "        idx = np.argmax(model.coef_)\n",
    "    else:\n",
    "        idx = np.argmin(model.coef_)\n",
    "        \n",
    "    return vectorizer.get_feature_names()[idx]\n",
    "\n"
   ]
  },
  {
   "cell_type": "code",
   "execution_count": 11,
   "metadata": {},
   "outputs": [
    {
     "name": "stdout",
     "output_type": "stream",
     "text": [
      "\n",
      "Good word in logistic model:  great\n",
      "\n",
      "Bad word in logistic model:  poor\n"
     ]
    }
   ],
   "source": [
    "print()\n",
    "print('Good word in logistic model: ',getSigwordsCV(log))\n",
    "\n",
    "print()\n",
    "print('Bad word in logistic model: ',getSigwordsCV(log,0))"
   ]
  },
  {
   "cell_type": "code",
   "execution_count": 12,
   "metadata": {},
   "outputs": [
    {
     "name": "stdout",
     "output_type": "stream",
     "text": [
      "\n",
      "Good word in nbmodel:  one\n",
      "\n",
      "Bad word in nb model:  0101036100\n"
     ]
    }
   ],
   "source": [
    "print()\n",
    "print('Good word in nbmodel: ',getSigwords(nb))\n",
    "\n",
    "print()\n",
    "print('Bad word in nb model: ',getSigwords(nb,0))"
   ]
  },
  {
   "cell_type": "code",
   "execution_count": null,
   "metadata": {},
   "outputs": [],
   "source": []
  }
 ],
 "metadata": {
  "kernelspec": {
   "display_name": "Python 3",
   "language": "python",
   "name": "python3"
  },
  "language_info": {
   "codemirror_mode": {
    "name": "ipython",
    "version": 3
   },
   "file_extension": ".py",
   "mimetype": "text/x-python",
   "name": "python",
   "nbconvert_exporter": "python",
   "pygments_lexer": "ipython3",
   "version": "3.6.8"
  }
 },
 "nbformat": 4,
 "nbformat_minor": 2
}
