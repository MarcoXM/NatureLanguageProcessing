{
 "cells": [
  {
   "cell_type": "code",
   "execution_count": 43,
   "metadata": {},
   "outputs": [],
   "source": [
    "from bs4 import BeautifulSoup\n",
    "from urllib.request import urlopen\n",
    "import numpy as np\n",
    "import warnings\n",
    "import re\n",
    "\n",
    "html = urlopen('https://storm.cis.fordham.edu/~yli/data/MyShakespeare.txt').read().decode('utf-8','ignore')\n",
    "soup = BeautifulSoup(html, features='lxml')\n",
    "\n",
    "all_href = soup.find_all('p')\n",
    "\n",
    "\n",
    "l = re.sub(r'\\r\\n\\r\\n','[P]',str(all_href))\n",
    "l = re.sub(r'<.*?>','',l)\n",
    "l = re.sub(r'\\r\\n',' ',l)\n",
    "l = re.sub(r'\\[P\\]','\\r\\n\\r\\n',l)\n",
    "\n",
    "with open('data.txt','w')as f:\n",
    "    f.write(l[1:-1])"
   ]
  },
  {
   "cell_type": "code",
   "execution_count": 44,
   "metadata": {},
   "outputs": [],
   "source": [
    "import os \n",
    "def load_data(path):\n",
    "    input_file = os.path.join(path)\n",
    "    with open(input_file, \"r\") as f:\n",
    "        data = f.read()\n",
    "\n",
    "    return data\n",
    "\n",
    "text = load_data('data.txt')"
   ]
  },
  {
   "cell_type": "code",
   "execution_count": 45,
   "metadata": {},
   "outputs": [
    {
     "name": "stdout",
     "output_type": "stream",
     "text": [
      "Number of lines: 725\n",
      "Average number of words in each line: 12.32\n"
     ]
    }
   ],
   "source": [
    "lines = text.split('\\n')\n",
    "print('Number of lines: {}'.format(len(lines)))\n",
    "word_count_line = [len(line.split()) for line in lines]\n",
    "print('Average number of words in each line: {}'.format(np.average(word_count_line)))"
   ]
  },
  {
   "cell_type": "code",
   "execution_count": 46,
   "metadata": {},
   "outputs": [],
   "source": [
    "SPECIAL_WORDS = {'PADDING': '<PAD>'}\n",
    "def create_lookup_tables(text):\n",
    "    vocab_to_int = { v:i+1 for i,v in enumerate(set(text))}\n",
    "    int_to_vocab = { v:k for k,v in vocab_to_int.items()}\n",
    "    # return tuple\n",
    "    return (vocab_to_int, int_to_vocab)\n",
    "\n",
    "def token_lookup():\n",
    "    \n",
    "    answer = {'.' : '||Period||',\n",
    "              ',' : '||Comma||',\n",
    "              '\"' : '||Quotation_Mark||',\n",
    "              ';' : '||Semicolon||',\n",
    "              '!' : '||Exclamation_mark||',\n",
    "              '?' : '||Question_mark||',\n",
    "              '(' : '||Left_Parentheses||',\n",
    "              ')' : '||Right_Parentheses||',\n",
    "              '\\n': '||Return||',\n",
    "              '-' : '||Dash||'}\n",
    "    \n",
    "        \n",
    "    return answer"
   ]
  },
  {
   "cell_type": "code",
   "execution_count": 90,
   "metadata": {},
   "outputs": [],
   "source": [
    "\n",
    "from collections import Counter\n",
    "class NgramModel(object):\n",
    "    def __init__(self,n = 3):\n",
    "        super(NgramModel,self).__init__()\n",
    "        self.n = n\n",
    "        self.create_lookup_tables = create_lookup_tables\n",
    "        self.token_lookup = token_lookup\n",
    "        self.vocab_to_int = None\n",
    "        self.int_to_vocab = None\n",
    "        self.counter = None\n",
    "        self.int_text = None\n",
    "        self.text = None\n",
    "        self.ngram_matrix = None\n",
    "        assert self.n > 1, \"N should larger than 1 !!!!!\"\n",
    "        \n",
    "    @staticmethod    \n",
    "    def load_data(path):\n",
    "        input_file = os.path.join(path)\n",
    "        with open(input_file, \"r\") as f:\n",
    "            data = f.read()\n",
    "        return data    \n",
    "    \n",
    "    def update(self,text):\n",
    "        text = load_data(text)\n",
    "        \n",
    "        \n",
    "        token_dict = self.token_lookup()\n",
    "        for key, token in token_dict.items():\n",
    "            text = text.replace(key, ' {} '.format(token))\n",
    "\n",
    "        text = text.lower()\n",
    "        self.text = '<START> ' + text + ' <END>'\n",
    "        text = text.split()\n",
    "        \n",
    "        self.counter = Counter(text)\n",
    "        self.vocab_to_int, self.int_to_vocab = self.create_lookup_tables(text + list(SPECIAL_WORDS.values()))\n",
    "        self.int_text = [self.vocab_to_int[word] for word in text]\n",
    "    def get_vocab(self):\n",
    "        return self.vocab_to_int\n",
    "    \n",
    "    def size_vocab(self):\n",
    "        return len(self.vocab_to_int)\n",
    "    \n",
    "    def get_gram(self):\n",
    "        m = []\n",
    "        \n",
    "        corpus = self.text.split()\n",
    "        for i in range(len(corpus)-n+1):\n",
    "            m.append((corpus[i:i+n]))\n",
    "        self.ngram_matrix = m\n",
    "    \n",
    "    def len_text(self):\n",
    "        return len(self.text.split())-2\n",
    "    \n",
    "    def len_ngram(self):\n",
    "        return len(self.ngram_matrix)\n",
    "    \n",
    "    def word_freq(self,word):\n",
    "        print(self.counter[word])\n",
    "        \n",
    "    def ngram_freq(self,gram):\n",
    "        assert len(gram.split()) == self.n, 'Number of gram match our model!!!'\n",
    "        \n",
    "        \n",
    "        "
   ]
  },
  {
   "cell_type": "code",
   "execution_count": 91,
   "metadata": {},
   "outputs": [],
   "source": [
    "ng = NgramModel(3)\n",
    "ng.update('data.txt')"
   ]
  },
  {
   "cell_type": "code",
   "execution_count": 94,
   "metadata": {},
   "outputs": [
    {
     "name": "stdout",
     "output_type": "stream",
     "text": [
      "0\n"
     ]
    }
   ],
   "source": [
    "ng.word_freq('alex')"
   ]
  },
  {
   "cell_type": "code",
   "execution_count": null,
   "metadata": {},
   "outputs": [],
   "source": []
  }
 ],
 "metadata": {
  "kernelspec": {
   "display_name": "Python 3",
   "language": "python",
   "name": "python3"
  },
  "language_info": {
   "codemirror_mode": {
    "name": "ipython",
    "version": 3
   },
   "file_extension": ".py",
   "mimetype": "text/x-python",
   "name": "python",
   "nbconvert_exporter": "python",
   "pygments_lexer": "ipython3",
   "version": "3.6.7"
  }
 },
 "nbformat": 4,
 "nbformat_minor": 2
}
