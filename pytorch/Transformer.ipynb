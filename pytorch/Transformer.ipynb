{
 "cells": [
  {
   "cell_type": "code",
   "execution_count": 1,
   "metadata": {},
   "outputs": [
    {
     "ename": "ModuleNotFoundError",
     "evalue": "No module named 'seaborn'",
     "output_type": "error",
     "traceback": [
      "\u001b[0;31m---------------------------------------------------------------------------\u001b[0m",
      "\u001b[0;31mModuleNotFoundError\u001b[0m                       Traceback (most recent call last)",
      "\u001b[0;32m<ipython-input-1-cec06c5bbfaf>\u001b[0m in \u001b[0;36m<module>\u001b[0;34m\u001b[0m\n\u001b[1;32m      3\u001b[0m \u001b[0;32mimport\u001b[0m \u001b[0mtorch\u001b[0m\u001b[0;34m.\u001b[0m\u001b[0mfunctional\u001b[0m \u001b[0;32mas\u001b[0m \u001b[0mF\u001b[0m\u001b[0;34m\u001b[0m\u001b[0;34m\u001b[0m\u001b[0m\n\u001b[1;32m      4\u001b[0m \u001b[0;32mimport\u001b[0m \u001b[0mnumpy\u001b[0m \u001b[0;32mas\u001b[0m \u001b[0mnp\u001b[0m\u001b[0;34m\u001b[0m\u001b[0;34m\u001b[0m\u001b[0m\n\u001b[0;32m----> 5\u001b[0;31m \u001b[0;32mimport\u001b[0m \u001b[0mseaborn\u001b[0m \u001b[0;32mas\u001b[0m \u001b[0msns\u001b[0m\u001b[0;34m\u001b[0m\u001b[0;34m\u001b[0m\u001b[0m\n\u001b[0m\u001b[1;32m      6\u001b[0m \u001b[0;32mimport\u001b[0m \u001b[0mmatplotlib\u001b[0m\u001b[0;34m.\u001b[0m\u001b[0mpyplot\u001b[0m \u001b[0;32mas\u001b[0m \u001b[0mplt\u001b[0m\u001b[0;34m\u001b[0m\u001b[0;34m\u001b[0m\u001b[0m\n\u001b[1;32m      7\u001b[0m \u001b[0;32mimport\u001b[0m \u001b[0mmath\u001b[0m\u001b[0;34m,\u001b[0m\u001b[0mcopy\u001b[0m\u001b[0;34m,\u001b[0m\u001b[0mtime\u001b[0m\u001b[0;34m\u001b[0m\u001b[0;34m\u001b[0m\u001b[0m\n",
      "\u001b[0;31mModuleNotFoundError\u001b[0m: No module named 'seaborn'"
     ]
    }
   ],
   "source": [
    "import torch\n",
    "import torch.nn as nn\n",
    "import torch.functional as F\n",
    "import numpy as np\n",
    "import seaborn as sns\n",
    "import matplotlib.pyplot as plt\n",
    "import math,copy,time\n",
    "from torch.autograd import Variable\n",
    "%matplotlib inline \n",
    "from tqdm import tqdm_notebook as tqdm\n",
    "import warnings\n",
    "warnings.filterwarnings('ignore',category=FutureWarning)\n",
    "device = 'cuda' if torch.cuda.is_available() else 'cpu'"
   ]
  },
  {
   "cell_type": "code",
   "execution_count": 2,
   "metadata": {},
   "outputs": [],
   "source": [
    "class EncoderDecoder(nn.Module):\n",
    "    '''\n",
    "    High Level structure of the NMT model\n",
    "    '''\n",
    "    \n",
    "    def __init__(self,encoder, # input word to vector\n",
    "                decoder, # hidden  to vector\n",
    "                x_emb, # input representation layers\n",
    "                y_emb, # output representation\n",
    "                clf): # final classifier , pick the right word.\n",
    "        super(EncoderDecoder,self).__init__()\n",
    "        self.encoder = encoder\n",
    "        self.decoder = decoder\n",
    "        self.x_emb = x_emb\n",
    "        self.y_emb = y_emb\n",
    "        self.clf = clf\n",
    "        \n",
    "    \n",
    "    def forward(self, x,\n",
    "               y,\n",
    "               x_mask,\n",
    "               y_mask):\n",
    "        h = self.encoder(x,x_mask)\n",
    "        y = self.decoder(h,x_mask, # attention \n",
    "                        y,y_mask)\n",
    "        return y\n",
    "    \n",
    "    def encoder(self,x,x_mask):\n",
    "        return self.encoder(self.x_emb(x),x_mask) # getting the hidden state matrix\n",
    "    \n",
    "    def decoder(self,hidden_matrix,x_mask,y,y_mask):\n",
    "        return self.decoder(self.y_emb(y),hidden_matrix,#dot_product\n",
    "                           x_mask,y_mask)\n",
    "    \n",
    "class Classifier(nn.Module):\n",
    "    def __init__(self,dimension,vocab):\n",
    "        super(Classifier,self).__init__()\n",
    "        self.fc = nn.Linear(dimension,vocab)\n",
    "        \n",
    "    def forward(self,x):\n",
    "        return F.log_softmax(self.fc(x),dim = -1) # So the loss would be NNloss\n",
    "       "
   ]
  },
  {
   "cell_type": "code",
   "execution_count": 3,
   "metadata": {},
   "outputs": [],
   "source": [
    "def clones(module,N):\n",
    "    return nn.ModuleList(*[copy.deepcopy(module) for _ in range(N)])"
   ]
  },
  {
   "cell_type": "code",
   "execution_count": 4,
   "metadata": {},
   "outputs": [],
   "source": [
    "class Encoder(nn.Module):\n",
    "    def __init__(self,layer, N):\n",
    "        super(Encoder,self).__init__()\n",
    "        self.layers = clone(layer,N)\n",
    "        self.norm = LayerNorm(layer.size) # later when you initialize layer\n",
    "       \n",
    "        \n",
    "    def forward(self,x,x_mask):\n",
    "        for lyer in self.layers:\n",
    "            x = lyer(x,x_mask)\n",
    "        x = self.norm(x)\n",
    "        \n",
    "        return x     "
   ]
  },
  {
   "cell_type": "code",
   "execution_count": 5,
   "metadata": {},
   "outputs": [],
   "source": [
    "class Layernorm(nn.Module): # Layer norm is not batch norm ! #it norm for features in the instance\n",
    "    def __init__(self,features, eps = 1e-6):\n",
    "        super(Layernorm,self).__init__()\n",
    "        self.eps = eps\n",
    "        \n",
    "    def forward(self,x):\n",
    "        mean = torch.mean(x,dim = -1)\n",
    "        std = torch.std(x,dim = -1)\n",
    "        return (x - mean)/(std + self.eps)**0.5 # Based on the original paper\n",
    "    \n",
    "    \n",
    "    "
   ]
  },
  {
   "cell_type": "code",
   "execution_count": 6,
   "metadata": {},
   "outputs": [],
   "source": [
    "class SublayerConnection(nn.Module):\n",
    "    \n",
    "    def __init__(self, size, dropout):\n",
    "        super(SublayerConnection, self).__init__()\n",
    "        self.norm = Layernorm(size)\n",
    "        self.dropout = nn.Dropout(dropout)\n",
    "\n",
    "    def forward(self, x, sublayer):\n",
    "        \"Apply residual connection to any sublayer with the same size.\"\n",
    "        return x + self.dropout(sublayer(self.norm(x))) # residual\n",
    "    "
   ]
  },
  {
   "cell_type": "code",
   "execution_count": 6,
   "metadata": {},
   "outputs": [],
   "source": [
    "class EncoderLayer(nn.Module):\n",
    "    def __init__(self,size,self_attn,fc,dropout):\n",
    "        super(EncoderLayer).__init__()\n",
    "        self.attn = self_attn\n",
    "        self.fc = fc\n",
    "        self.sublayer = clones(SublayerConnection(size,dropout),2)"
   ]
  },
  {
   "cell_type": "code",
   "execution_count": null,
   "metadata": {},
   "outputs": [],
   "source": []
  },
  {
   "cell_type": "markdown",
   "metadata": {},
   "source": [
    "### Decoder"
   ]
  },
  {
   "cell_type": "code",
   "execution_count": 8,
   "metadata": {},
   "outputs": [],
   "source": [
    "class Decoder(nn.Module):\n",
    "    def __init__(self,layers,N):\n",
    "        super(Decoder,self).__init__()\n",
    "        self.layers = clones(layers,N)\n",
    "        self.norm = Layernorm(layer.size)\n",
    "        \n",
    "    def forward(self,x,hidden,x_mask,y_mask):\n",
    "        for lyer in self.layers:\n",
    "            x = layer(x,hidden,x_mask,y_mask)\n",
    "        return self.norm(x)"
   ]
  },
  {
   "cell_type": "code",
   "execution_count": 9,
   "metadata": {},
   "outputs": [],
   "source": [
    "class DecoderLayer(nn.Module):\n",
    "    def __init__(self,size, self_attn, x_attn, fc, dropout):\n",
    "        super(DecoderLayer,self).__init__()\n",
    "        self.size = size\n",
    "        self.attn = self_attn\n",
    "        self.x_attn = x_attn\n",
    "        self.fc = fc\n",
    "        self.sublayers = clones(SublayerConnection(size,dropout),3)\n",
    "        \n",
    "    def forward(self,x,hidden ,x_mask,y_mask):\n",
    "        x = self.sublayers[0](x,lambda x: self.attn(x,x,x,y_mask))\n",
    "        x = slef.sublayers[1](x, lambda x: self.x_attn(x,m,m,x_mask))\n",
    "        return self.sublayers[2](x,self.fc)\n",
    "    \n",
    "    \n",
    "        "
   ]
  },
  {
   "cell_type": "code",
   "execution_count": 10,
   "metadata": {},
   "outputs": [],
   "source": [
    "def sebsequent(size):\n",
    "    attn_shape = (1,size,size)\n",
    "    subseq_mask = np.triu(np.ones(attn_shape),k = 1).astype('uint8')\n",
    "    return torch.from_numpy(subseq_mask) == 0"
   ]
  },
  {
   "cell_type": "code",
   "execution_count": 11,
   "metadata": {},
   "outputs": [
    {
     "data": {
      "text/plain": [
       "tensor([[[1, 0, 0, 0, 0, 0, 0, 0, 0, 0, 0, 0, 0, 0, 0, 0, 0, 0, 0, 0],\n",
       "         [1, 1, 0, 0, 0, 0, 0, 0, 0, 0, 0, 0, 0, 0, 0, 0, 0, 0, 0, 0],\n",
       "         [1, 1, 1, 0, 0, 0, 0, 0, 0, 0, 0, 0, 0, 0, 0, 0, 0, 0, 0, 0],\n",
       "         [1, 1, 1, 1, 0, 0, 0, 0, 0, 0, 0, 0, 0, 0, 0, 0, 0, 0, 0, 0],\n",
       "         [1, 1, 1, 1, 1, 0, 0, 0, 0, 0, 0, 0, 0, 0, 0, 0, 0, 0, 0, 0],\n",
       "         [1, 1, 1, 1, 1, 1, 0, 0, 0, 0, 0, 0, 0, 0, 0, 0, 0, 0, 0, 0],\n",
       "         [1, 1, 1, 1, 1, 1, 1, 0, 0, 0, 0, 0, 0, 0, 0, 0, 0, 0, 0, 0],\n",
       "         [1, 1, 1, 1, 1, 1, 1, 1, 0, 0, 0, 0, 0, 0, 0, 0, 0, 0, 0, 0],\n",
       "         [1, 1, 1, 1, 1, 1, 1, 1, 1, 0, 0, 0, 0, 0, 0, 0, 0, 0, 0, 0],\n",
       "         [1, 1, 1, 1, 1, 1, 1, 1, 1, 1, 0, 0, 0, 0, 0, 0, 0, 0, 0, 0],\n",
       "         [1, 1, 1, 1, 1, 1, 1, 1, 1, 1, 1, 0, 0, 0, 0, 0, 0, 0, 0, 0],\n",
       "         [1, 1, 1, 1, 1, 1, 1, 1, 1, 1, 1, 1, 0, 0, 0, 0, 0, 0, 0, 0],\n",
       "         [1, 1, 1, 1, 1, 1, 1, 1, 1, 1, 1, 1, 1, 0, 0, 0, 0, 0, 0, 0],\n",
       "         [1, 1, 1, 1, 1, 1, 1, 1, 1, 1, 1, 1, 1, 1, 0, 0, 0, 0, 0, 0],\n",
       "         [1, 1, 1, 1, 1, 1, 1, 1, 1, 1, 1, 1, 1, 1, 1, 0, 0, 0, 0, 0],\n",
       "         [1, 1, 1, 1, 1, 1, 1, 1, 1, 1, 1, 1, 1, 1, 1, 1, 0, 0, 0, 0],\n",
       "         [1, 1, 1, 1, 1, 1, 1, 1, 1, 1, 1, 1, 1, 1, 1, 1, 1, 0, 0, 0],\n",
       "         [1, 1, 1, 1, 1, 1, 1, 1, 1, 1, 1, 1, 1, 1, 1, 1, 1, 1, 0, 0],\n",
       "         [1, 1, 1, 1, 1, 1, 1, 1, 1, 1, 1, 1, 1, 1, 1, 1, 1, 1, 1, 0],\n",
       "         [1, 1, 1, 1, 1, 1, 1, 1, 1, 1, 1, 1, 1, 1, 1, 1, 1, 1, 1, 1]]],\n",
       "       dtype=torch.uint8)"
      ]
     },
     "execution_count": 11,
     "metadata": {},
     "output_type": "execute_result"
    },
    {
     "data": {
      "image/png": "[encoded data removed]",
      "text/plain": [
       "<Figure size 432x288 with 1 Axes>"
      ]
     },
     "metadata": {
      "needs_background": "light"
     },
     "output_type": "display_data"
    }
   ],
   "source": [
    "plt.imshow(sebsequent(20)[0])\n",
    "sebsequent(20)"
   ]
  },
  {
   "cell_type": "code",
   "execution_count": 12,
   "metadata": {},
   "outputs": [],
   "source": [
    "def Attn(k,q,v,mask = None, dropout = None):\n",
    "    d_k = q.size(-1)\n",
    "    scores = torch.matmul(q,k.transpose(-2,-1))/math.sqrt(d_k)\n",
    "    \n",
    "    if mask is not None:\n",
    "        scores = scores.masked_fill(mask ==0, -1e9)\n",
    "    weight = F.softmax(scores,dim = -1)\n",
    "    \n",
    "    if dropout is not None:\n",
    "        weight = dropout(weight)\n",
    "        \n",
    "    return torch.matmul(weight,v),weight"
   ]
  },
  {
   "cell_type": "code",
   "execution_count": 13,
   "metadata": {},
   "outputs": [],
   "source": [
    "class MultiAttn(nn.Module):\n",
    "    def __init__(self,h,d_model,dropout = 0.1):\n",
    "        super(MultiAttn,self).__init__()\n",
    "        assert d_model%h == 0\n",
    "        self.d_k = d_model//h\n",
    "        self.h = h\n",
    "        self.fcs = clone(nn.Linear(d_model,d_model),4)\n",
    "        self.attn = None\n",
    "        self.dropout = nn.Dropout(dropout)\n",
    "        \n",
    "    def forward(self,q,k,v,mask = None):\n",
    "        if mask is not None:\n",
    "            mask = mask.unsqueeze(1) # add dimension\n",
    "        batch_size = q.size(0)\n",
    "        factor = [l(x).view(batch_size,-1,self.h,self.d_k) for l,x in zip(self.fcs,q,k,v)]\n",
    "            \n",
    "        x,self.attn = Attn(*factor,mask=mask, dropout=self.dropout)\n",
    "        \n",
    "        x = x.transpose(1,2).contiguous().view(batch_size,-1,self.h*self.d_k)\n",
    "        return self.fcs[-1](x)\n",
    "    "
   ]
  },
  {
   "cell_type": "code",
   "execution_count": 14,
   "metadata": {},
   "outputs": [],
   "source": [
    "class PositionFC(nn.Module):\n",
    "    def __init__(self,d_model,d_ff,dropout = 0.1):\n",
    "        super(PositionFC,self).__init__()\n",
    "        self.w_1 = nn.Linear(d_model,d_ff)\n",
    "        self.w_2 = nn.Linear(d_ff,d_model)\n",
    "        self.dropout = nn.Dropout(dropout)\n",
    "        \n",
    "    def forward(self,x):\n",
    "        x = F.relu(self.w_1(x))\n",
    "        x = self.dropout(x)\n",
    "        x = self.w_2(x)\n",
    "        \n",
    "        return x\n",
    "    \n",
    "    \n",
    "class Embeding(nn.Module):\n",
    "    def __init__(self,d_model,vocab):\n",
    "        super(Embeding,self).__init__()\n",
    "        self.emb = nn.Embedding(vocab,d_model)\n",
    "        self.d_model = d_model\n",
    "        \n",
    "    def forward(self,x):\n",
    "        return self.emb(x) * math.sqrt(self.d_model)"
   ]
  },
  {
   "cell_type": "code",
   "execution_count": 7,
   "metadata": {},
   "outputs": [],
   "source": [
    "class PositionEncoding(nn.Module):\n",
    "    def __init__(self,d_model,dropout,max_len = 500):\n",
    "        super(PositionEncoding,self).__init__()\n",
    "        self.drop = nn.Dropout(dropout)\n",
    "        \n",
    "        positionEncode = torch.zeros(max_len,d_model)\n",
    "        position = torch.arange(0,max_len).unsqueeze(1) # max_len,1\n",
    "        div_term = torch.exp(torch.arange(0,d_model,2) * -(math.log(10000.0)/d_model))\n",
    "        \n",
    "        positionEncode[:,0::2] = torch.sin(position*div_term) # even\n",
    "        positionEncode[:,1::2] = torch.cos(position*div_term) # odd\n",
    "        positionEncode = positionEncode.unsequeeze(0) # add dimension in forst axis\n",
    "        self.register_buffer('pe',positionEncode)\n",
    "        \n",
    "    def forward(self,x):\n",
    "        x = x +Variable(self.positionEncode[:,:x.size(1)],\n",
    "                       require_grad = False)\n",
    "        return self.dropout(x)"
   ]
  },
  {
   "cell_type": "code",
   "execution_count": 24,
   "metadata": {},
   "outputs": [
    {
     "data": {
      "text/plain": [
       "torch.Size([30, 25])"
      ]
     },
     "execution_count": 24,
     "metadata": {},
     "output_type": "execute_result"
    }
   ],
   "source": [
    "torch.zeros(30,50)[:,0::2].size()"
   ]
  },
  {
   "cell_type": "code",
   "execution_count": 26,
   "metadata": {},
   "outputs": [
    {
     "data": {
      "text/plain": [
       "array([0, 2, 4, 6, 8])"
      ]
     },
     "execution_count": 26,
     "metadata": {},
     "output_type": "execute_result"
    }
   ],
   "source": [
    "np.arange(0,10)[0::2]"
   ]
  },
  {
   "cell_type": "code",
   "execution_count": null,
   "metadata": {},
   "outputs": [],
   "source": []
  }
 ],
 "metadata": {
  "kernelspec": {
   "display_name": "Python 3",
   "language": "python",
   "name": "python3"
  },
  "language_info": {
   "codemirror_mode": {
    "name": "ipython",
    "version": 3
   },
   "file_extension": ".py",
   "mimetype": "text/x-python",
   "name": "python",
   "nbconvert_exporter": "python",
   "pygments_lexer": "ipython3",
   "version": "3.6.8"
  }
 },
 "nbformat": 4,
 "nbformat_minor": 2
}
