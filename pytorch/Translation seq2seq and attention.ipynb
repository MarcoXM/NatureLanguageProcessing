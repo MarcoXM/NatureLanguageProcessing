{
 "cells": [
  {
   "cell_type": "code",
   "execution_count": 1,
   "metadata": {},
   "outputs": [],
   "source": [
    "from __future__ import unicode_literals, print_function, division\n",
    "from io import open\n",
    "import unicodedata\n",
    "import string\n",
    "import re\n",
    "import random\n",
    "\n",
    "import torch\n",
    "import torch.nn as nn\n",
    "from torch import optim\n",
    "import torch.nn.functional as F\n",
    "\n",
    "DEVICE = torch.device(\"cuda\" if torch.cuda.is_available() else \"cpu\")"
   ]
  },
  {
   "cell_type": "code",
   "execution_count": 2,
   "metadata": {},
   "outputs": [],
   "source": [
    "EOS_token = 0\n",
    "SOS_token = 1\n",
    "\n",
    "class Lang:\n",
    "    def __init__(self,name):\n",
    "        \n",
    "        self.name = name\n",
    "        self.word2idx = {}\n",
    "        self.word2count = {}\n",
    "        self.idx2word = {0:'EOS',1:'SOS'}\n",
    "        self.num_words = 2\n",
    "        \n",
    "    def add_sentence(self,sentence):\n",
    "        for word in sentence.split(' '):\n",
    "            self.add_word(word)\n",
    "            \n",
    "    def add_word(self,word):\n",
    "        if word not in self.word2idx:\n",
    "            self.word2idx[word] = self.num_words\n",
    "            self.word2count[word] = 1\n",
    "            self.idx2word[self.num_words] = word\n",
    "            self.num_words += 1\n",
    "        else:\n",
    "            self.word2count[word] += 1\n",
    "            "
   ]
  },
  {
   "cell_type": "code",
   "execution_count": 3,
   "metadata": {},
   "outputs": [],
   "source": [
    "france = Lang('france')\n"
   ]
  },
  {
   "cell_type": "code",
   "execution_count": 4,
   "metadata": {},
   "outputs": [
    {
     "data": {
      "text/plain": [
       "<__main__.Lang at 0x10e0075f8>"
      ]
     },
     "execution_count": 4,
     "metadata": {},
     "output_type": "execute_result"
    }
   ],
   "source": [
    "france\n"
   ]
  },
  {
   "cell_type": "code",
   "execution_count": 5,
   "metadata": {},
   "outputs": [],
   "source": [
    "#Helper functions!\n",
    "def unicodeToAscii(s):\n",
    "    return ''.join(\n",
    "        c for c in unicodedata.normalize('NFD', s)\n",
    "        if unicodedata.category(c) != 'Mn'\n",
    "    )\n",
    "\n",
    "# Lowercase, trim, and remove non-letter characters\n",
    "def normalizeString(s):\n",
    "    s = unicodeToAscii(s.lower().strip())\n",
    "    s = re.sub(r\"([.!?])\", r\" \\1\", s)\n",
    "    s = re.sub(r\"[^a-zA-Z.!?]+\", r\" \", s)\n",
    "    return s\n",
    "\n"
   ]
  },
  {
   "cell_type": "markdown",
   "metadata": {},
   "source": [
    "# Read Data"
   ]
  },
  {
   "cell_type": "code",
   "execution_count": 6,
   "metadata": {},
   "outputs": [],
   "source": [
    "def read_lang(path,lang1,lang2,reverse =False):\n",
    "    print('Starting ! ! !')\n",
    "    lines = open(path +'%s-%s.txt' % (lang1, lang2), encoding='utf-8').read().strip().split('\\n')\n",
    "    \n",
    "    pairs = [[normalizeString(s) for s in l.split('\\t')] for l in lines]\n",
    "    \n",
    "     # Reverse pairs, make Lang instances\n",
    "    if reverse:\n",
    "        pairs = [list(reversed(p)) for p in pairs]\n",
    "        input_lang = Lang(lang2)\n",
    "        output_lang = Lang(lang1)\n",
    "    else:\n",
    "        input_lang = Lang(lang1)\n",
    "        output_lang = Lang(lang2)\n",
    "\n",
    "    return input_lang, output_lang, pairs\n",
    "\n"
   ]
  },
  {
   "cell_type": "code",
   "execution_count": 7,
   "metadata": {},
   "outputs": [],
   "source": [
    "class EncodeRNN(nn.Module):\n",
    "    \n",
    "    def __init__(self,input_size,hidden_size):\n",
    "        super(EncodeRNN,self).__init__()\n",
    "        self.hidden=hidden_size\n",
    "        \n",
    "        self.emb = nn.Embedding(input_size,hidden_size)\n",
    "        self.gru = nn.GRU(hidden_size,hidden_size)\n",
    "        \n",
    "    def forward(self,x,hidden):\n",
    "        embed = self.emb(x).view(1,1,-1)\n",
    "        output,hidden = self.gru(embed,hidden)\n",
    "        return output,hidden\n",
    "    \n",
    "    def initHidden(self):\n",
    "        return torch.zeros(1, 1, self.hidden, device=DEVICE)\n",
    "        "
   ]
  },
  {
   "cell_type": "code",
   "execution_count": 8,
   "metadata": {},
   "outputs": [],
   "source": [
    "class DecodeRNN(nn.Module):\n",
    "    def __init__(self,hidden,output):\n",
    "        super(DecodeRNN,self).__init__()\n",
    "        self.hidden = hidden\n",
    "        \n",
    "        self.emb = nn.Embedding(output,hidden) # word2vec dimension == hidden !\n",
    "        self.gru = nn.GRU(hidden,hidden) # word to word ,same size\n",
    "        self.fc = nn.Linear(hidden,output) # pick word from vocab!\n",
    "        \n",
    "    def forward(self,x,hidden):\n",
    "        \n",
    "        embed = self.emb(x).view(1,1,-1)\n",
    "        output,hidden = nn.gru(embed,hidden)\n",
    "        output = F.log_softmax(output,dim=1)\n",
    "        return output,hidden\n",
    "    \n",
    "    def initHidden(self):\n",
    "        return torch.zeros(1, 1, self.hidden_size, device=DEVICE)\n",
    "    \n",
    "    "
   ]
  },
  {
   "cell_type": "code",
   "execution_count": 9,
   "metadata": {},
   "outputs": [],
   "source": [
    "MAX_LENGTH = 10 # 10 words at large !\n",
    "\n",
    "eng_prefixes = (\n",
    "    \"i am \", \"i m \",\n",
    "    \"he is\", \"he s \",\n",
    "    \"she is\", \"she s \",\n",
    "    \"you are\", \"you re \",\n",
    "    \"we are\", \"we re \",\n",
    "    \"they are\", \"they re \"\n",
    ")\n",
    "\n",
    "def filterPair(pair):\n",
    "    return len(pair[0].split(' ')) < MAX_LENGTH and len(pair[1].split(' ')) < MAX_LENGTH and pair[0].startswith(eng_prefixes)\n",
    "    #getting those pairs len(Eng) <10 and start with...\n",
    "    \n",
    "def filterPairs(pairs):\n",
    "    return [pair for pair in pairs if filterPair(pair)]\n"
   ]
  },
  {
   "cell_type": "code",
   "execution_count": 10,
   "metadata": {},
   "outputs": [],
   "source": [
    "def prepareData(lang1, lang2, reverse=False):\n",
    "    input_lang, output_lang, pairs = read_lang('data/',lang1, lang2)\n",
    "    print(\"Read %s sentence pairs\" % len(pairs))\n",
    "    pairs = filterPairs(pairs)\n",
    "\n",
    "    print(\"Trimmed to %s sentence pairs\" % len(pairs))\n",
    "    print(\"Counting words...\")\n",
    "    for pair in pairs:\n",
    "        \n",
    "        input_lang.add_sentence(pair[0])\n",
    "        output_lang.add_sentence(pair[1])\n",
    "    print(\"Counted words:\")\n",
    "    print(input_lang.name, input_lang.num_words)\n",
    "    print(output_lang.name, output_lang.num_words)\n",
    "    return input_lang, output_lang, pairs\n"
   ]
  },
  {
   "cell_type": "code",
   "execution_count": 11,
   "metadata": {},
   "outputs": [
    {
     "name": "stdout",
     "output_type": "stream",
     "text": [
      "Starting ! ! !\n",
      "Read 170190 sentence pairs\n",
      "Trimmed to 12702 sentence pairs\n",
      "Counting words...\n",
      "Counted words:\n",
      "eng 3050\n",
      "fra 4736\n"
     ]
    }
   ],
   "source": [
    "input_lang, output_lang, pairs = prepareData(lang1='eng', lang2='fra')\n",
    "#print(random.choice(pairs))\n"
   ]
  },
  {
   "cell_type": "code",
   "execution_count": 12,
   "metadata": {},
   "outputs": [
    {
     "data": {
      "text/plain": [
       "['i m .', 'j ai ans .']"
      ]
     },
     "execution_count": 12,
     "metadata": {},
     "output_type": "execute_result"
    }
   ],
   "source": [
    "pairs[0] # One pair example!\n"
   ]
  },
  {
   "cell_type": "code",
   "execution_count": 13,
   "metadata": {},
   "outputs": [
    {
     "data": {
      "text/plain": [
       "True"
      ]
     },
     "execution_count": 13,
     "metadata": {},
     "output_type": "execute_result"
    }
   ],
   "source": [
    "filterPair(pairs[0])"
   ]
  },
  {
   "cell_type": "markdown",
   "metadata": {},
   "source": [
    "# Preparing work "
   ]
  },
  {
   "cell_type": "code",
   "execution_count": 14,
   "metadata": {},
   "outputs": [],
   "source": [
    "# How to do \n",
    "# we have raw token data ! words !\n",
    "# now the workflow is that turn words into int, then we can turn int into our embedding(one hot vector)\n",
    "\n",
    "def sentence2idx(lang,sentence):\n",
    "    return [lang.word2idx[word] for word in sentence.split(' ')]\n",
    "\n",
    "def sentenc2tensor(lang,sentence):\n",
    "    idx = sentence2idx(lang,sentence)\n",
    "    idx.append(EOS_token) ##  Adding the ending word!\n",
    "    return torch.LongTensor(idx).view(-1, 1).to(DEVICE)\n",
    "\n",
    "def pair2tensor(lang1,lang2,pair):\n",
    "    \n",
    "    x_tensor = sentenc2tensor(lang1,pair[0]) # input language >>>>>> index\n",
    "    y_tensor = sentenc2tensor(lang2,pair[1]) # output language >>>>>>> index\n",
    "    \n",
    "    return x_tensor,y_tensor\n"
   ]
  },
  {
   "cell_type": "markdown",
   "metadata": {},
   "source": [
    "# Attention !"
   ]
  },
  {
   "cell_type": "code",
   "execution_count": 1,
   "metadata": {},
   "outputs": [
    {
     "ename": "NameError",
     "evalue": "name 'nn' is not defined",
     "output_type": "error",
     "traceback": [
      "\u001b[0;31m---------------------------------------------------------------------------\u001b[0m",
      "\u001b[0;31mNameError\u001b[0m                                 Traceback (most recent call last)",
      "\u001b[0;32m<ipython-input-1-7fd4fdeb4069>\u001b[0m in \u001b[0;36m<module>\u001b[0;34m\u001b[0m\n\u001b[0;32m----> 1\u001b[0;31m \u001b[0;32mclass\u001b[0m \u001b[0mAttnDecoder\u001b[0m\u001b[0;34m(\u001b[0m\u001b[0mnn\u001b[0m\u001b[0;34m.\u001b[0m\u001b[0mModule\u001b[0m\u001b[0;34m)\u001b[0m\u001b[0;34m:\u001b[0m \u001b[0;31m# Multiplicative Attention\u001b[0m\u001b[0;34m\u001b[0m\u001b[0;34m\u001b[0m\u001b[0m\n\u001b[0m\u001b[1;32m      2\u001b[0m     \u001b[0;32mdef\u001b[0m \u001b[0m__init__\u001b[0m\u001b[0;34m(\u001b[0m\u001b[0mself\u001b[0m\u001b[0;34m,\u001b[0m\u001b[0mhidden_size\u001b[0m\u001b[0;34m,\u001b[0m\u001b[0moutput_size\u001b[0m\u001b[0;34m,\u001b[0m\u001b[0mdropout_rate\u001b[0m \u001b[0;34m=\u001b[0m \u001b[0;36m0.2\u001b[0m\u001b[0;34m)\u001b[0m\u001b[0;34m:\u001b[0m\u001b[0;34m\u001b[0m\u001b[0;34m\u001b[0m\u001b[0m\n\u001b[1;32m      3\u001b[0m         \u001b[0msuper\u001b[0m\u001b[0;34m(\u001b[0m\u001b[0mAttnDecoder\u001b[0m\u001b[0;34m,\u001b[0m\u001b[0mself\u001b[0m\u001b[0;34m)\u001b[0m\u001b[0;34m.\u001b[0m\u001b[0m__init__\u001b[0m\u001b[0;34m(\u001b[0m\u001b[0;34m)\u001b[0m\u001b[0;34m\u001b[0m\u001b[0;34m\u001b[0m\u001b[0m\n\u001b[1;32m      4\u001b[0m \u001b[0;34m\u001b[0m\u001b[0m\n\u001b[1;32m      5\u001b[0m         \u001b[0mself\u001b[0m\u001b[0;34m.\u001b[0m\u001b[0mhidden\u001b[0m \u001b[0;34m=\u001b[0m \u001b[0mhidden_size\u001b[0m \u001b[0;31m# this is word vecter dimension\u001b[0m\u001b[0;34m\u001b[0m\u001b[0;34m\u001b[0m\u001b[0m\n",
      "\u001b[0;31mNameError\u001b[0m: name 'nn' is not defined"
     ]
    }
   ],
   "source": [
    "\n",
    "class AttnDecoder(nn.Module): # Multiplicative Attention\n",
    "    def __init__(self,hidden_size,output_size,dropout_rate = 0.2):\n",
    "        super(AttnDecoder,self).__init__()\n",
    "        \n",
    "        self.hidden = hidden_size # this is word vecter dimension\n",
    "        self.output = output_size # this is vocab size\n",
    "        self.drop = nn.Dropout(dropout_rate)\n",
    "        \n",
    "        \n",
    "        self.emb = nn.Embedding(output_size,hidden_size)\n",
    "        \n",
    "        self.rnn = nn.GRU(hidden_size,hidden_size) # <EOS> inital and as the first word vector!\n",
    "        self.h2newoutput = nn.Linear(hidden_size * 2, hidden_size)\n",
    "        self.toword = nn.Linear(hidden_size,output_size)\n",
    "        \n",
    "    def forward(self,x,hidden,encoder_matrix):\n",
    "        \n",
    "        emb_vecter = self.emb(x)\n",
    "        _,hidden = self.rnn(emb_vecter,hidden)\n",
    "        \n",
    "        score = F.softmax(torch.matmul(hidden.view(1,-1),torch.t(encoder_matrix)),dim=1)\n",
    "\n",
    "        context = torch.matmul(score,encoder_matrix)\n",
    "        #print(new_context.size())\n",
    "       \n",
    "        out = torch.cat([context,output],dim = 1)\n",
    "        #print(new_input.size())\n",
    "        output = F.tanh(self.h2newoutput(out))\n",
    "        output = self.drop(output)\n",
    "        final_output = F.log_softmax(self.toword(output),dim = 1)\n",
    "        return final_output,hidden\n",
    "    \n",
    "    def initHidden(self):\n",
    "        return torch.zeros(1, 1, self.hidden, device=DEVICE)\n",
    "        \n",
    "class AttnDecoderRNN(nn.Module):\n",
    "    def __init__(self, hidden_size, output_size, dropout_p=0.1, max_length=MAX_LENGTH):\n",
    "        super(AttnDecoderRNN, self).__init__()\n",
    "        self.hidden_size = hidden_size\n",
    "        self.output_size = output_size\n",
    "        self.dropout_p = dropout_p\n",
    "        self.max_length = max_length\n",
    "\n",
    "        self.embedding = nn.Embedding(self.output_size, self.hidden_size)\n",
    "        self.attn = nn.Linear(self.hidden_size * 2, self.max_length)\n",
    "        self.attn_combine = nn.Linear(self.hidden_size * 2, self.hidden_size)\n",
    "        self.dropout = nn.Dropout(self.dropout_p)\n",
    "        self.gru = nn.GRU(self.hidden_size, self.hidden_size)\n",
    "        self.out = nn.Linear(self.hidden_size, self.output_size)\n",
    "\n",
    "    def forward(self, input, hidden, encoder_outputs):\n",
    "        embedded = self.embedding(input).view(1, 1, -1)\n",
    "        embedded = self.dropout(embedded)\n",
    "\n",
    "        attn_weights = F.softmax(\n",
    "            self.attn(torch.cat((embedded[0], hidden[0]), 1)), dim=1)\n",
    "        attn_applied = torch.bmm(attn_weights.unsqueeze(0),\n",
    "                                 encoder_outputs.unsqueeze(0))\n",
    "\n",
    "        output = torch.cat((embedded[0], attn_applied[0]), 1)\n",
    "        output = self.attn_combine(output).unsqueeze(0)\n",
    "\n",
    "        output = F.relu(output)\n",
    "        output, hidden = self.gru(output, hidden)\n",
    "\n",
    "        output = F.log_softmax(self.out(output[0]), dim=1)\n",
    "        return output, hidden, attn_weights\n",
    "\n",
    "    def initHidden(self):\n",
    "        return torch.zeros(1, 1, self.hidden_size, device=device)\n",
    "        \n"
   ]
  },
  {
   "cell_type": "markdown",
   "metadata": {},
   "source": [
    "# test"
   ]
  },
  {
   "cell_type": "code",
   "execution_count": 16,
   "metadata": {},
   "outputs": [],
   "source": [
    "teacher_forcing_ratio = 0.5\n",
    "'''\n",
    "def train(input_tensor, target_tensor, encoder, decoder, encoder_optimizer, decoder_optimizer, criterion):\n",
    "    encoder_hidden = encoder.initHidden()\n",
    "\n",
    "    encoder_optimizer.zero_grad()\n",
    "    decoder_optimizer.zero_grad()\n",
    "\n",
    "    input_length = input_tensor.size(0)\n",
    "    target_length = target_tensor.size(0)\n",
    "\n",
    "    encoder_outputs = torch.zeros(input_length, encoder.hidden, device=DEVICE)\n",
    "\n",
    "    loss = 0\n",
    "\n",
    "    for ei in range(input_length):\n",
    "        encoder_output, encoder_hidden = encoder(\n",
    "            input_tensor[ei], encoder_hidden)\n",
    "        encoder_outputs[ei] = encoder_output\n",
    "\n",
    "    decoder_input = torch.tensor([[SOS_token]], device=DEVICE)\n",
    "\n",
    "    decoder_hidden = encoder_hidden\n",
    "\n",
    "    use_teacher_forcing = True if random.random() < teacher_forcing_ratio else False\n",
    "\n",
    "    if use_teacher_forcing:\n",
    "        # Teacher forcing: Feed the target as the next input\n",
    "        for di in range(target_length):\n",
    "            decoder_output, decoder_hidden = decoder(decoder_input, decoder_hidden, encoder_outputs)\n",
    "\n",
    "            loss += criterion(decoder_output.squeeze().view(1,-1), target_tensor[di])\n",
    "            decoder_input = target_tensor[di]  # Teacher forcing\n",
    "\n",
    "    else:\n",
    "        # Without teacher forcing: use its own predictions as the next input\n",
    "        for di in range(target_length):\n",
    "            decoder_output, decoder_hidden = decoder(\n",
    "                decoder_input, decoder_hidden, encoder_outputs)\n",
    "            topv, topi = decoder_output.topk(1)\n",
    "            decoder_input = topi.squeeze().detach()  # detach from history as input\n",
    "\n",
    "            loss += criterion(decoder_output.squeeze().view(1,-1), target_tensor[di])\n",
    "            if decoder_input.item() == EOS_token:\n",
    "                break\n",
    "\n",
    "    loss.backward()\n",
    "\n",
    "    encoder_optimizer.step()\n",
    "    decoder_optimizer.step()\n",
    "\n",
    "    return loss.item() / target_length\n",
    "\n",
    "'''\n",
    "import math\n",
    "\n",
    "\n",
    "def asMinutes(s):\n",
    "    m = math.floor(s / 60)\n",
    "    s -= m * 60\n",
    "    return '%dm %ds' % (m, s)\n",
    "\n",
    "\n",
    "def timeSince(since, percent):\n",
    "    now = time.time()\n",
    "    s = now - since\n",
    "    es = s / (percent)\n",
    "    rs = es - s\n",
    "    return '%s (- %s)' % (asMinutes(s), asMinutes(rs))\n",
    "\n",
    "def train(input_tensor, target_tensor, encoder, decoder, encoder_optimizer, decoder_optimizer, criterion, max_length=MAX_LENGTH):\n",
    "    encoder_hidden = encoder.initHidden()\n",
    "\n",
    "    encoder_optimizer.zero_grad()\n",
    "    decoder_optimizer.zero_grad()\n",
    "\n",
    "    input_length = input_tensor.size(0)\n",
    "    target_length = target_tensor.size(0)\n",
    "\n",
    "    encoder_outputs = torch.zeros(max_length, encoder.hidden, device=DEVICE)\n",
    "\n",
    "    loss = 0\n",
    "\n",
    "    for ei in range(input_length):\n",
    "        encoder_output, encoder_hidden = encoder(\n",
    "            input_tensor[ei], encoder_hidden)\n",
    "        encoder_outputs[ei] = encoder_output[0, 0]\n",
    "\n",
    "    decoder_input = torch.tensor([[SOS_token]], device=DEVICE)\n",
    "\n",
    "    decoder_hidden = encoder_hidden\n",
    "\n",
    "    use_teacher_forcing = True if random.random() < teacher_forcing_ratio else False\n",
    "\n",
    "    if use_teacher_forcing:\n",
    "        # Teacher forcing: Feed the target as the next input\n",
    "        for di in range(target_length):\n",
    "            decoder_output, decoder_hidden, decoder_attention = decoder(\n",
    "                decoder_input, decoder_hidden, encoder_outputs)\n",
    "            loss += criterion(decoder_output, target_tensor[di])\n",
    "            decoder_input = target_tensor[di]  # Teacher forcing\n",
    "\n",
    "    else:\n",
    "        # Without teacher forcing: use its own predictions as the next input\n",
    "        for di in range(target_length):\n",
    "            decoder_output, decoder_hidden, decoder_attention = decoder(\n",
    "                decoder_input, decoder_hidden, encoder_outputs)\n",
    "            topv, topi = decoder_output.topk(1)\n",
    "            decoder_input = topi.squeeze().detach()  # detach from history as input\n",
    "\n",
    "            loss += criterion(decoder_output, target_tensor[di])\n",
    "            if decoder_input.item() == EOS_token:\n",
    "                break\n",
    "\n",
    "    loss.backward()\n",
    "\n",
    "    encoder_optimizer.step()\n",
    "    decoder_optimizer.step()\n",
    "\n",
    "    return loss.item() / target_length\n",
    "\n",
    "\n"
   ]
  },
  {
   "cell_type": "code",
   "execution_count": 17,
   "metadata": {},
   "outputs": [],
   "source": [
    "def trainIters(encoder, decoder, n_iters, print_every=1000, plot_every=100, learning_rate=0.01):\n",
    "    start = time.time()\n",
    "    plot_losses = []\n",
    "    print_loss_total = 0  # Reset every print_every\n",
    "    plot_loss_total = 0  # Reset every plot_every\n",
    "\n",
    "    encoder_optimizer = optim.SGD(encoder.parameters(), lr=learning_rate)\n",
    "    decoder_optimizer = optim.SGD(decoder.parameters(), lr=learning_rate)\n",
    "    training_pairs = [pair2tensor(input_lang,output_lang,random.choice(pairs))\n",
    "                      for i in range(n_iters)]\n",
    "    criterion = nn.NLLLoss()\n",
    "\n",
    "    for iter in range(1, n_iters + 1):\n",
    "        training_pair = training_pairs[iter - 1]\n",
    "        input_tensor = training_pair[0]\n",
    "        target_tensor = training_pair[1]\n",
    "\n",
    "        loss = train(input_tensor, target_tensor, encoder,\n",
    "                     decoder, encoder_optimizer, decoder_optimizer, criterion)\n",
    "        print_loss_total += loss\n",
    "        plot_loss_total += loss\n",
    "\n",
    "        if iter % print_every == 0:\n",
    "            print_loss_avg = print_loss_total / print_every\n",
    "            print_loss_total = 0\n",
    "            print('%s (%d %d%%) %.4f' % (timeSince(start, iter / n_iters),\n",
    "                                         iter, iter / n_iters * 100, print_loss_avg))\n",
    "\n",
    "        if iter % plot_every == 0:\n",
    "            plot_loss_avg = plot_loss_total / plot_every\n",
    "            plot_losses.append(plot_loss_avg)\n",
    "            plot_loss_total = 0\n",
    "\n",
    "    showPlot(plot_losses)"
   ]
  },
  {
   "cell_type": "code",
   "execution_count": 18,
   "metadata": {},
   "outputs": [],
   "source": [
    "import matplotlib.pyplot as plt\n",
    "plt.switch_backend('agg')\n",
    "import matplotlib.ticker as ticker\n",
    "import numpy as np\n",
    "import time\n",
    "\n",
    "def showPlot(points):\n",
    "    plt.figure()\n",
    "    fig, ax = plt.subplots()\n",
    "    # this locator puts ticks at regular intervals\n",
    "    loc = ticker.MultipleLocator(base=0.2)\n",
    "    ax.yaxis.set_major_locator(loc)\n",
    "    plt.plot(points)"
   ]
  },
  {
   "cell_type": "code",
   "execution_count": 19,
   "metadata": {},
   "outputs": [
    {
     "name": "stdout",
     "output_type": "stream",
     "text": [
      "5m 42s (- 79m 53s) (5000 6%) 3.4912\n",
      "11m 34s (- 75m 15s) (10000 13%) 2.8304\n",
      "17m 29s (- 69m 57s) (15000 20%) 2.4593\n",
      "23m 38s (- 65m 1s) (20000 26%) 2.2159\n",
      "29m 35s (- 59m 10s) (25000 33%) 2.0431\n",
      "35m 24s (- 53m 6s) (30000 40%) 1.8632\n",
      "41m 13s (- 47m 6s) (35000 46%) 1.7396\n",
      "81m 37s (- 71m 25s) (40000 53%) 1.5975\n",
      "87m 13s (- 58m 9s) (45000 60%) 1.4830\n",
      "92m 51s (- 46m 25s) (50000 66%) 1.3931\n",
      "98m 29s (- 35m 48s) (55000 73%) 1.2739\n",
      "103m 58s (- 25m 59s) (60000 80%) 1.2828\n",
      "109m 28s (- 16m 50s) (65000 86%) 1.1936\n",
      "114m 58s (- 8m 12s) (70000 93%) 1.1113\n",
      "120m 22s (- 0m 0s) (75000 100%) 1.0789\n"
     ]
    },
    {
     "data": {
      "text/plain": [
       "<Figure size 432x288 with 0 Axes>"
      ]
     },
     "metadata": {},
     "output_type": "display_data"
    },
    {
     "data": {
      "image/png": "[encoded data removed]",
      "text/plain": [
       "<Figure size 432x288 with 1 Axes>"
      ]
     },
     "metadata": {
      "needs_background": "light"
     },
     "output_type": "display_data"
    }
   ],
   "source": [
    "hidden_size = 256\n",
    "encoder1 = EncodeRNN(input_lang.num_words, hidden_size).to(DEVICE)\n",
    "attn_decoder1 = AttnDecoderRNN(hidden_size, output_lang.num_words, dropout_p=0.1).to(DEVICE)\n",
    "\n",
    "trainIters(encoder1, attn_decoder1, 75000, print_every=5000)"
   ]
  },
  {
   "cell_type": "code",
   "execution_count": 20,
   "metadata": {},
   "outputs": [
    {
     "data": {
      "text/plain": [
       "torch.Size([10, 300])"
      ]
     },
     "execution_count": 20,
     "metadata": {},
     "output_type": "execute_result"
    }
   ],
   "source": [
    "d = torch.randint(0,5,(10,300)).float()\n",
    "d.size()"
   ]
  },
  {
   "cell_type": "code",
   "execution_count": 21,
   "metadata": {},
   "outputs": [
    {
     "data": {
      "text/plain": [
       "torch.Size([1, 1, 300])"
      ]
     },
     "execution_count": 21,
     "metadata": {},
     "output_type": "execute_result"
    }
   ],
   "source": [
    "c = torch.randint(0,5,(1,1,300)).float()\n",
    "c.size()"
   ]
  },
  {
   "cell_type": "code",
   "execution_count": 22,
   "metadata": {},
   "outputs": [
    {
     "data": {
      "text/plain": [
       "tensor([[[2.1705e-29, 0.0000e+00, 1.6038e-28, 1.0000e+00, 0.0000e+00,\n",
       "          8.7565e-27, 4.0796e-41, 0.0000e+00, 0.0000e+00, 1.4013e-44]]])"
      ]
     },
     "execution_count": 22,
     "metadata": {},
     "output_type": "execute_result"
    }
   ],
   "source": [
    "s = F.softmax(torch.matmul(c, torch.t(d)),dim=2)\n",
    "s"
   ]
  },
  {
   "cell_type": "code",
   "execution_count": 23,
   "metadata": {},
   "outputs": [
    {
     "data": {
      "text/plain": [
       "tensor([[[2.0000e+00, 1.0000e+00, 3.0000e+00, 2.0000e+00, 4.8114e-28,\n",
       "          2.0000e+00, 2.0000e+00, 3.5069e-26, 2.0000e+00, 2.6837e-26,\n",
       "          2.0000e+00, 4.0758e-28, 4.0000e+00, 1.0000e+00, 2.0000e+00,\n",
       "          4.0000e+00, 3.5208e-26, 3.0000e+00, 1.0000e+00, 1.0000e+00,\n",
       "          1.0000e+00, 2.6794e-26, 3.0000e+00, 3.0000e+00, 1.0000e+00,\n",
       "          1.0000e+00, 1.0000e+00, 4.0000e+00, 4.0000e+00, 3.0000e+00,\n",
       "          2.0000e+00, 4.0000e+00, 3.0000e+00, 2.6772e-26, 9.4414e-27,\n",
       "          1.0000e+00, 4.0000e+00, 4.0000e+00, 2.0000e+00, 1.0000e+00,\n",
       "          2.0000e+00, 4.0000e+00, 9.1424e-27, 8.7782e-27, 2.0000e+00,\n",
       "          1.0000e+00, 1.0000e+00, 3.0000e+00, 3.0000e+00, 1.0000e+00,\n",
       "          2.0000e+00, 4.0000e+00, 2.0000e+00, 1.0000e+00, 3.0000e+00,\n",
       "          3.0000e+00, 4.0000e+00, 2.6677e-26, 2.0000e+00, 4.0000e+00,\n",
       "          1.0000e+00, 6.5116e-29, 1.0000e+00, 7.0664e-28, 4.0000e+00,\n",
       "          3.0000e+00, 3.0000e+00, 3.0000e+00, 4.0000e+00, 4.3410e-29,\n",
       "          1.0000e+00, 4.0000e+00, 4.0000e+00, 4.0000e+00, 1.0000e+00,\n",
       "          1.0000e+00, 2.0000e+00, 4.0000e+00, 2.0000e+00, 4.8114e-28,\n",
       "          3.0000e+00, 4.0000e+00, 3.0000e+00, 3.0000e+00, 4.0000e+00,\n",
       "          1.7717e-26, 4.0000e+00, 2.0000e+00, 3.0000e+00, 1.0000e+00,\n",
       "          4.0000e+00, 2.0000e+00, 4.0000e+00, 3.0000e+00, 2.0000e+00,\n",
       "          3.0000e+00, 1.0000e+00, 3.0000e+00, 2.0000e+00, 1.0000e+00,\n",
       "          3.0000e+00, 3.0000e+00, 3.0000e+00, 4.0000e+00, 1.0000e+00,\n",
       "          2.0000e+00, 2.0000e+00, 4.0000e+00, 2.0000e+00, 4.0000e+00,\n",
       "          3.0000e+00, 2.0000e+00, 2.0000e+00, 2.0000e+00, 2.6612e-26,\n",
       "          4.0000e+00, 2.0000e+00, 2.6313e-26, 8.6821e-29, 1.0000e+00,\n",
       "          3.0000e+00, 1.0000e+00, 4.0000e+00, 2.0000e+00, 4.0000e+00,\n",
       "          2.0000e+00, 3.0000e+00, 4.0000e+00, 4.0000e+00, 3.0000e+00,\n",
       "          3.0000e+00, 1.6320e-40, 2.0000e+00, 4.0000e+00, 4.0000e+00,\n",
       "          3.0000e+00, 2.0000e+00, 2.6495e-26, 1.0000e+00, 3.0000e+00,\n",
       "          3.0000e+00, 3.0000e+00, 2.0000e+00, 2.0000e+00, 4.0000e+00,\n",
       "          3.5689e-26, 3.0000e+00, 2.6772e-26, 1.0000e+00, 2.0000e+00,\n",
       "          1.8220e-26, 2.1705e-29, 1.0000e+00, 4.0000e+00, 3.0000e+00,\n",
       "          3.0000e+00, 3.0000e+00, 1.7899e-26, 2.0000e+00, 4.0000e+00,\n",
       "          1.8220e-26, 1.0000e+00, 3.0000e+00, 2.0000e+00, 3.0000e+00,\n",
       "          3.0000e+00, 4.0000e+00, 3.0000e+00, 3.0000e+00, 1.0000e+00,\n",
       "          4.0000e+00, 4.0000e+00, 2.0000e+00, 3.0000e+00, 4.0000e+00,\n",
       "          1.0000e+00, 1.0000e+00, 1.0000e+00, 3.6417e-28, 3.0000e+00,\n",
       "          4.0000e+00, 4.0000e+00, 9.4197e-27, 2.0000e+00, 1.0000e+00,\n",
       "          5.0285e-28, 2.0000e+00, 4.0000e+00, 4.0000e+00, 3.0000e+00,\n",
       "          1.7535e-26, 1.8220e-26, 2.6356e-26, 1.0000e+00, 1.0000e+00,\n",
       "          3.0000e+00, 2.0000e+00, 2.0000e+00, 1.0000e+00, 4.0000e+00,\n",
       "          1.0000e+00, 4.0000e+00, 5.0285e-28, 4.0000e+00, 4.0000e+00,\n",
       "          2.0000e+00, 1.8220e-26, 2.0000e+00, 3.0000e+00, 1.0000e+00,\n",
       "          4.0000e+00, 1.0000e+00, 4.0000e+00, 1.0000e+00, 5.0285e-28,\n",
       "          9.4197e-27, 3.0000e+00, 3.0000e+00, 4.0000e+00, 9.3245e-27,\n",
       "          3.0000e+00, 1.0000e+00, 4.0000e+00, 3.0000e+00, 1.0000e+00,\n",
       "          2.0000e+00, 2.0000e+00, 4.0000e+00, 9.3245e-27, 1.0000e+00,\n",
       "          3.0000e+00, 3.5048e-26, 3.0000e+00, 4.0000e+00, 4.0000e+00,\n",
       "          2.0000e+00, 9.3980e-27, 3.5026e-26, 4.3410e-29, 1.0000e+00,\n",
       "          4.0000e+00, 3.0000e+00, 6.6323e-28, 2.0000e+00, 1.0000e+00,\n",
       "          1.0000e+00, 9.1424e-27, 1.7535e-26, 3.0000e+00, 2.0000e+00,\n",
       "          1.0000e+00, 3.0000e+00, 5.6796e-28, 3.0000e+00, 4.0000e+00,\n",
       "          5.6796e-28, 4.0000e+00, 4.0000e+00, 1.8209e-28, 3.0000e+00,\n",
       "          4.0000e+00, 3.5507e-26, 3.5529e-26, 2.0000e+00, 4.0000e+00,\n",
       "          4.0000e+00, 4.0000e+00, 1.0000e+00, 3.0000e+00, 1.0000e+00,\n",
       "          3.5572e-26, 4.0000e+00, 1.0000e+00, 1.0000e+00, 3.0000e+00,\n",
       "          4.0000e+00, 3.0000e+00, 8.7565e-27, 1.0000e+00, 4.0000e+00,\n",
       "          3.0000e+00, 2.0000e+00, 4.0000e+00, 2.6837e-26, 4.0000e+00,\n",
       "          3.0000e+00, 4.0000e+00, 3.0000e+00, 4.0000e+00, 4.0000e+00,\n",
       "          2.0000e+00, 3.0000e+00, 4.0000e+00, 4.0000e+00, 2.0000e+00,\n",
       "          2.0000e+00, 2.0000e+00, 1.0000e+00, 2.0000e+00, 1.0000e+00]]])"
      ]
     },
     "execution_count": 23,
     "metadata": {},
     "output_type": "execute_result"
    }
   ],
   "source": [
    "new = torch.matmul(s,d)\n",
    "new"
   ]
  },
  {
   "cell_type": "code",
   "execution_count": null,
   "metadata": {},
   "outputs": [],
   "source": []
  },
  {
   "cell_type": "code",
   "execution_count": null,
   "metadata": {},
   "outputs": [],
   "source": []
  }
 ],
 "metadata": {
  "kernelspec": {
   "display_name": "Python 3",
   "language": "python",
   "name": "python3"
  },
  "language_info": {
   "codemirror_mode": {
    "name": "ipython",
    "version": 3
   },
   "file_extension": ".py",
   "mimetype": "text/x-python",
   "name": "python",
   "nbconvert_exporter": "python",
   "pygments_lexer": "ipython3",
   "version": "3.7.3"
  }
 },
 "nbformat": 4,
 "nbformat_minor": 2
}
