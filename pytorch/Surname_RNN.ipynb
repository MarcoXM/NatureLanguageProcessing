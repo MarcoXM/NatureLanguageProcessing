{
 "cells": [
  {
   "cell_type": "code",
   "execution_count": 1,
   "metadata": {},
   "outputs": [],
   "source": [
    "from __future__ import unicode_literals, print_function, division\n",
    "import torch\n",
    "import torch.nn as nn\n",
    "import torch.nn.functional as F\n",
    "import pandas as pd\n",
    "import numpy as np\n",
    "from torchvision import datasets,transforms\n",
    "from torch.utils.data import DataLoader\n",
    "import matplotlib.pyplot as plt\n",
    "import torch.optim as optim\n",
    "from io import open\n",
    "import glob\n",
    "import os\n",
    "import unicodedata\n",
    "import string\n",
    "import random\n",
    "import time\n",
    "import math"
   ]
  },
  {
   "cell_type": "markdown",
   "metadata": {},
   "source": [
    "# data preparation"
   ]
  },
  {
   "cell_type": "code",
   "execution_count": 2,
   "metadata": {},
   "outputs": [
    {
     "name": "stdout",
     "output_type": "stream",
     "text": [
      "abcdefghijklmnopqrstuvwxyzABCDEFGHIJKLMNOPQRSTUVWXYZ.,;:'-\n"
     ]
    }
   ],
   "source": [
    "all_letter = string.ascii_letters + \".,;:'-\"\n",
    "num_letter = len(all_letter) + 1\n",
    "print(all_letter) # All letters in English."
   ]
  },
  {
   "cell_type": "code",
   "execution_count": 3,
   "metadata": {},
   "outputs": [
    {
     "name": "stdout",
     "output_type": "stream",
     "text": [
      "# categories: 18 ['Czech', 'German', 'Arabic', 'Japanese', 'Chinese', 'Vietnamese', 'Russian', 'French', 'Irish', 'English', 'Spanish', 'Greek', 'Italian', 'Portuguese', 'Scottish', 'Dutch', 'Korean', 'Polish']\n",
      "O'Neal\n"
     ]
    }
   ],
   "source": [
    "def findPath(path):\n",
    "    return glob.glob(path)\n",
    "\n",
    "def unicode2asc(s):\n",
    "    return ''.join( c for c in unicodedata.normalize('NFD',s) if unicodedata.category(c) != 'Mn' and c in all_letter)\n",
    "\n",
    "def readLines(filename):\n",
    "    lines = open(filename,encoding='utf-8').read().strip().split('\\n')\n",
    "    return [unicode2asc(line) for line in lines]\n",
    "\n",
    "cate_lines = {}\n",
    "all_lines = []\n",
    "\n",
    "try:\n",
    "    for filename in findPath('data/surnames/names/*.txt'):\n",
    "        category = os.path.splitext(os.path.basename(filename))[0]\n",
    "        all_lines.append(category)\n",
    "        lines = readLines(filename)\n",
    "        cate_lines[category] = lines\n",
    "\n",
    "    num_categories = len(all_lines)\n",
    "        \n",
    "except len(num_categories) == 0:\n",
    "    raise RuntimeError('You should download your data !!!') \n",
    "\n",
    "print('# categories:', num_categories, all_lines)\n",
    "print(unicode2asc(\"O'Néàl\"))"
   ]
  },
  {
   "cell_type": "markdown",
   "metadata": {},
   "source": [
    "# Modeling"
   ]
  },
  {
   "cell_type": "code",
   "execution_count": 4,
   "metadata": {},
   "outputs": [],
   "source": [
    "class RNN(nn.Module):\n",
    "    def __init__(self,in_feature,hidden,out_feature):\n",
    "        super(RNN,self).__init__()\n",
    "        \n",
    "        self.hidden_size = hidden\n",
    "        \n",
    "        self.i2h = nn.Linear(in_feature + hidden +num_categories,hidden)\n",
    "        self.i2o = nn.Linear(in_feature + hidden +num_categories,out_feature)\n",
    "        self.o2o = nn.Linear(hidden+out_feature,out_feature)\n",
    "        \n",
    "        self.drop = nn.Dropout(0.1)\n",
    "    \n",
    "    def forward(self,x,hidden,category):\n",
    "        cat_x = torch.cat((x,hidden,category),1)\n",
    "        hidden = self.i2h(cat_x)\n",
    "        output = self.i2o(cat_x)\n",
    "        \n",
    "        cat_out = torch.cat((hidden,output),1)\n",
    "        output = F.log_softmax(self.drop(self.o2o(cat_out)),1)\n",
    "        return output,hidden\n",
    "    \n",
    "    def initHidden(self):\n",
    "        return torch.zeros(1, self.hidden_size)\n",
    "    \n",
    "rnn = RNN(num_letter,128,num_letter)   "
   ]
  },
  {
   "cell_type": "markdown",
   "metadata": {},
   "source": [
    "# data iteration"
   ]
  },
  {
   "cell_type": "code",
   "execution_count": 5,
   "metadata": {},
   "outputs": [],
   "source": [
    "def randomChoice(l):\n",
    "    return l[random.randint(0,len(l)-1)]\n",
    "\n",
    "def randomTrainingPair():\n",
    "    category = randomChoice(all_lines)\n",
    "    line = randomChoice(cate_lines[category])\n",
    "    return category, line"
   ]
  },
  {
   "cell_type": "code",
   "execution_count": 6,
   "metadata": {},
   "outputs": [],
   "source": [
    "##EOS inedx !!!"
   ]
  },
  {
   "cell_type": "code",
   "execution_count": 7,
   "metadata": {},
   "outputs": [],
   "source": [
    "def cate2Tensor(cate):\n",
    "    li = all_lines.index(category)\n",
    "    tensor = torch.zeros(1, num_categories) # shape or we call it size \n",
    "    tensor[0][li] = 1\n",
    "    return tensor\n",
    "\n",
    "def input2Tensor(line):\n",
    "    tensor =torch.zeros(len(line),1,num_letter) # 3 Dimensions???\n",
    "    \n",
    "    for i in range(len(line)): # EOS would not be input!!\n",
    "        letter = line[i]\n",
    "        tensor[i][0][all_letter.find(letter)] = 1 # 1st  location of letter, 2nd we only have 1 dimension here,\n",
    "        #letter index\n",
    "    return tensor\n",
    "\n",
    "def target2Tensor(line):\n",
    "    letter_indexes = [all_letter.find(line[li]) for li in range(1, len(line))] # \n",
    "    letter_indexes.append(num_letter - 1) # EOS,EOS is the last word\n",
    "    return torch.LongTensor(letter_indexes)\n",
    "\n",
    "\n",
    "def randomTrainingExample():\n",
    "    category, line = randomTrainingPair() # seed !\n",
    "    category_tensor = cate2Tensor(category)\n",
    "    input_line_tensor = input2Tensor(line)\n",
    "    target_line_tensor = target2Tensor(line)\n",
    "    return category_tensor, input_line_tensor, target_line_tensor"
   ]
  },
  {
   "cell_type": "code",
   "execution_count": 8,
   "metadata": {},
   "outputs": [],
   "source": [
    "criterion = nn.NLLLoss()\n",
    "optimizer = optim.Adam(rnn.parameters(),lr =0.0001)\n",
    "\n",
    "def train(category_tensor, input_line_tensor, target_line_tensor):\n",
    "    target_line_tensor.unsqueeze_(-1)\n",
    "    hidden = rnn.initHidden()\n",
    "\n",
    "    rnn.zero_grad()\n",
    "    loss = 0\n",
    "\n",
    "    for i in range(input_line_tensor.size(0)):\n",
    "        output, hidden = rnn(category_tensor, input_line_tensor[i], hidden)\n",
    "        l = criterion(output, target_line_tensor[i])\n",
    "        loss += l\n",
    "\n",
    "    loss.backward()\n",
    "    optimizer.step()\n",
    "    return output, loss.item() / input_line_tensor.size(0)"
   ]
  },
  {
   "cell_type": "code",
   "execution_count": 9,
   "metadata": {},
   "outputs": [],
   "source": [
    "def timeSince(since):\n",
    "    now = time.time()\n",
    "    s = now - since\n",
    "    m = math.floor(s / 60)\n",
    "    s -= m * 60\n",
    "    return '%dm %ds' % (m, s)"
   ]
  },
  {
   "cell_type": "markdown",
   "metadata": {},
   "source": [
    "# Trainning "
   ]
  },
  {
   "cell_type": "code",
   "execution_count": 10,
   "metadata": {},
   "outputs": [
    {
     "name": "stdout",
     "output_type": "stream",
     "text": [
      "0m 29s (5000 5%) 2.6193\n",
      "0m 59s (10000 10%) 2.2010\n",
      "1m 28s (15000 15%) 2.1400\n",
      "1m 59s (20000 20%) 2.4034\n",
      "2m 28s (25000 25%) 2.5530\n",
      "2m 58s (30000 30%) 2.1781\n",
      "3m 29s (35000 35%) 3.5003\n",
      "4m 0s (40000 40%) 2.1569\n",
      "4m 31s (45000 45%) 2.6023\n",
      "5m 14s (50000 50%) 2.5530\n",
      "5m 50s (55000 55%) 2.5829\n",
      "6m 21s (60000 60%) 1.8367\n",
      "6m 51s (65000 65%) 2.8840\n",
      "7m 21s (70000 70%) 2.0164\n",
      "7m 51s (75000 75%) 2.8895\n",
      "8m 20s (80000 80%) 2.3853\n",
      "8m 49s (85000 85%) 2.5906\n",
      "9m 18s (90000 90%) 3.0771\n",
      "9m 48s (95000 95%) 2.4258\n",
      "10m 19s (100000 100%) 1.9885\n"
     ]
    }
   ],
   "source": [
    "# 100,000 ~\n",
    "n_iters = 100000\n",
    "print_every = 5000\n",
    "plot_every = 500\n",
    "all_losses = []\n",
    "total_loss = 0 # Reset every plot_every iters\n",
    "\n",
    "start = time.time()\n",
    "for iter in range(1, n_iters + 1):\n",
    "    output, loss = train(*randomTrainingExample())\n",
    "    total_loss += loss\n",
    "\n",
    "    if iter % print_every == 0:\n",
    "        print('%s (%d %d%%) %.4f' % (timeSince(start), iter, iter / n_iters * 100, loss))\n",
    "\n",
    "    if iter % plot_every == 0:\n",
    "        all_losses.append(total_loss / plot_every)\n",
    "        total_loss = 0"
   ]
  },
  {
   "cell_type": "code",
   "execution_count": 11,
   "metadata": {},
   "outputs": [
    {
     "data": {
      "text/plain": [
       "[<matplotlib.lines.Line2D at 0x122a454a8>]"
      ]
     },
     "execution_count": 11,
     "metadata": {},
     "output_type": "execute_result"
    },
    {
     "data": {
      "image/png": "[encoded data removed]",
      "text/plain": [
       "<Figure size 432x288 with 1 Axes>"
      ]
     },
     "metadata": {
      "needs_background": "light"
     },
     "output_type": "display_data"
    }
   ],
   "source": [
    "import matplotlib.pyplot as plt\n",
    "import matplotlib.ticker as ticker\n",
    "\n",
    "plt.figure()\n",
    "plt.plot(all_losses)\n"
   ]
  },
  {
   "cell_type": "code",
   "execution_count": 12,
   "metadata": {},
   "outputs": [
    {
     "name": "stdout",
     "output_type": "stream",
     "text": [
      "Romer\n",
      "Urana\n",
      "Santar\n",
      "Garesto\n",
      "Esterra\n",
      "Rima\n",
      "Salla\n",
      "Peren\n",
      "Alaner\n",
      "Chang\n",
      "Honger\n",
      "Ishiella\n"
     ]
    }
   ],
   "source": [
    "max_length = 20\n",
    "def sample(category, start_letter='A'):\n",
    "    with torch.no_grad():  # no need to track history in sampling\n",
    "        category_tensor = cate2Tensor(category)\n",
    "        input = input2Tensor(start_letter)\n",
    "        hidden = rnn.initHidden()\n",
    "\n",
    "        output_name = start_letter\n",
    "\n",
    "        for i in range(max_length):\n",
    "            output, hidden = rnn(category_tensor, input[0], hidden)\n",
    "            topv, topi = output.topk(1)\n",
    "            topi = topi[0][0]\n",
    "            if topi == num_letter - 1:\n",
    "                break\n",
    "            else:\n",
    "                letter = all_letter[topi]\n",
    "                output_name += letter\n",
    "            input = input2Tensor(letter)\n",
    "\n",
    "        return output_name\n",
    "\n",
    "# Get multiple samples from one category and multiple starting letters\n",
    "def samples(category, start_letters='ABC'):\n",
    "    for start_letter in start_letters:\n",
    "        print(sample(category, start_letter))\n",
    "\n",
    "samples('Russian', 'RUS')\n",
    "\n",
    "samples('German', 'GER')\n",
    "\n",
    "samples('Spanish', 'SPA')\n",
    "\n",
    "samples('Chinese', 'CHI')"
   ]
  },
  {
   "cell_type": "code",
   "execution_count": null,
   "metadata": {},
   "outputs": [],
   "source": []
  }
 ],
 "metadata": {
  "kernelspec": {
   "display_name": "Python 3",
   "language": "python",
   "name": "python3"
  },
  "language_info": {
   "codemirror_mode": {
    "name": "ipython",
    "version": 3
   },
   "file_extension": ".py",
   "mimetype": "text/x-python",
   "name": "python",
   "nbconvert_exporter": "python",
   "pygments_lexer": "ipython3",
   "version": "3.7.3"
  }
 },
 "nbformat": 4,
 "nbformat_minor": 2
}
